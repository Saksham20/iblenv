{
 "cells": [
  {
   "cell_type": "markdown",
   "metadata": {},
   "source": [
    "\n",
    "Find closest trajectories\n",
    "=========================\n",
    "Finds the probe insertions that are closest a a specified probe insertion of interest and plots\n",
    "their location in a 3D image. Additionally prints out the information of closeby sessions\n"
   ]
  },
  {
   "cell_type": "code",
   "execution_count": null,
   "metadata": {},
   "outputs": [],
   "source": [
    "# Author: Mayo Faulkner\n",
    "# import modules\n",
    "import numpy as np\n",
    "import ibllib.pipes.histology as histology\n",
    "import ibllib.atlas as atlas\n",
    "from oneibl.one import ONE\n",
    "from mayavi import mlab\n",
    "mlab.init_notebook()\n",
    "from atlaselectrophysiology import rendering\n",
    "\n",
    "# Instantiate brain atlas and one\n",
    "brain_atlas = atlas.AllenAtlas(25)\n",
    "one = ONE()\n",
    "\n",
    "# Find all trajectories with histology tracing\n",
    "all_hist = one.alyx.rest('trajectories', 'list', provenance='Histology track')\n",
    "# Some do not have tracing, exclude these ones\n",
    "sess_with_hist = [sess for sess in all_hist if sess['x'] is not None]\n",
    "traj_ids = [sess['id'] for sess in sess_with_hist]\n",
    "# Compute trajectory objects for each of the trajectories\n",
    "trajectories = [atlas.Insertion.from_dict(sess) for sess in sess_with_hist]\n",
    "\n",
    "\n",
    "# Find the trajectory of the id that you want to find closeby probe insertions for\n",
    "subject = 'SWC_023'\n",
    "date = '2020-02-13'\n",
    "probe_label = 'probe00'\n",
    "traj_origin_id = one.alyx.rest('trajectories', 'list', provenance='Histology track',\n",
    "                               subject=subject, date=date, probe=probe_label)[0]['id']\n",
    "# Find the index of this trajectory in the list of all trajectories\n",
    "chosen_traj = traj_ids.index(traj_origin_id)\n",
    "\n",
    "# Define active part of probe ~ 200um from tip and ~ (200 + 3900)um to top of channels\n",
    "depths = np.arange(200, 4100, 20) / 1e6\n",
    "traj_coords = np.empty((len(traj_ids), len(depths), 3))\n",
    "\n",
    "# For each trajectory compute the xyz coords at positions depths along trajectory\n",
    "for iT, traj in enumerate(trajectories):\n",
    "    traj_coords[iT, :] = histology.interpolate_along_track(np.vstack([traj.tip, traj.entry]),\n",
    "                                                           depths)\n",
    "\n",
    "# Find the average distance between all positions compared to trjaectory of interest\n",
    "avg_dist = np.mean(np.sqrt(np.sum((traj_coords - traj_coords[chosen_traj]) ** 2, axis=2)), axis=1)\n",
    "\n",
    "# Sort according to those that are closest\n",
    "closest_traj = np.argsort(avg_dist)\n",
    "\n",
    "close_sessions = []\n",
    "# Make a 3D plot showing trajectory of interest (in black) and the 10 nearest trajectories (blue)\n",
    "fig = rendering.figure(grid=False)\n",
    "for iSess, sess_idx in enumerate(closest_traj[0:10]):\n",
    "\n",
    "    mlapdv = brain_atlas.xyz2ccf(traj_coords[sess_idx])\n",
    "    if iSess == 0:\n",
    "        mlab.plot3d(mlapdv[:, 1], mlapdv[:, 2], mlapdv[:, 0],\n",
    "                    line_width=1, tube_radius=10, color=(0, 0, 0))\n",
    "    else:\n",
    "        mlab.plot3d(mlapdv[:, 1], mlapdv[:, 2], mlapdv[:, 0],\n",
    "                    line_width=1, tube_radius=10, color=(0.0, 0.4, 0.5))\n",
    "\n",
    "    mlab.text3d(mlapdv[0, 1], mlapdv[0, 2], mlapdv[0, 0], str(iSess),\n",
    "                line_width=4, color=(0, 0, 0), figure=fig, scale=150)\n",
    "\n",
    "    close_sessions.append((sess_with_hist[sess_idx]['session']['subject'] + ' ' +\n",
    "                           sess_with_hist[sess_idx]['session']['start_time'][:10] +\n",
    "                           ' ' + sess_with_hist[sess_idx]['probe_name'] + ': dist = ' +\n",
    "                           str(avg_dist[closest_traj[iSess]] * 1e6)))\n",
    "\n",
    "print(close_sessions)\n",
    "fig"
   ]
  }
 ],
 "metadata": {
  "kernelspec": {
   "display_name": "Python 3",
   "language": "python",
   "name": "python3"
  },
  "language_info": {
   "codemirror_mode": {
    "name": "ipython",
    "version": 3
   },
   "file_extension": ".py",
   "mimetype": "text/x-python",
   "name": "python",
   "nbconvert_exporter": "python",
   "pygments_lexer": "ipython3",
   "version": "3.7.7"
  },
  "widgets": {
   "application/vnd.jupyter.widget-state+json": {
    "state": {
     "0bee9c482a7b4523a4b3b9ff97bb8c60": {
      "model_module": "ipyevents",
      "model_module_version": "1.8.0",
      "model_name": "EventModel",
      "state": {
       "_model_module": "ipyevents",
       "_model_module_version": "1.8.0",
       "_model_name": "EventModel",
       "_supported_key_events": [
        "keydown",
        "keyup"
       ],
       "_supported_mouse_events": [
        "click",
        "auxclick",
        "dblclick",
        "mouseenter",
        "mouseleave",
        "mousedown",
        "mouseup",
        "mousemove",
        "wheel",
        "contextmenu",
        "dragstart",
        "drag",
        "dragend",
        "dragenter",
        "dragover",
        "dragleave",
        "drop"
       ],
       "_view_count": null,
       "_view_module": "@jupyter-widgets/controls",
       "_view_module_version": "1.5.0",
       "_view_name": null,
       "ignore_modifier_key_events": false,
       "prevent_default_action": true,
       "source": "IPY_MODEL_f363a5f2ea464b5aad48e9baae0be13a",
       "throttle_or_debounce": "",
       "wait": 0,
       "watched_events": [
        "dragstart",
        "mouseenter",
        "mouseleave",
        "mousedown",
        "mouseup",
        "mousemove",
        "wheel",
        "keyup",
        "keydown"
       ],
       "xy": [],
       "xy_coordinate_system": ""
      }
     },
     "28173c3ec16546289dec70be8e5d57f8": {
      "model_module": "@jupyter-widgets/base",
      "model_module_version": "1.2.0",
      "model_name": "LayoutModel",
      "state": {
       "_model_module": "@jupyter-widgets/base",
       "_model_module_version": "1.2.0",
       "_model_name": "LayoutModel",
       "_view_count": null,
       "_view_module": "@jupyter-widgets/base",
       "_view_module_version": "1.2.0",
       "_view_name": "LayoutView",
       "align_content": null,
       "align_items": null,
       "align_self": null,
       "border": null,
       "bottom": null,
       "display": null,
       "flex": null,
       "flex_flow": null,
       "grid_area": null,
       "grid_auto_columns": null,
       "grid_auto_flow": null,
       "grid_auto_rows": null,
       "grid_column": null,
       "grid_gap": null,
       "grid_row": null,
       "grid_template_areas": null,
       "grid_template_columns": null,
       "grid_template_rows": null,
       "height": null,
       "justify_content": null,
       "justify_items": null,
       "left": null,
       "margin": null,
       "max_height": null,
       "max_width": null,
       "min_height": null,
       "min_width": null,
       "object_fit": null,
       "object_position": null,
       "order": null,
       "overflow": null,
       "overflow_x": null,
       "overflow_y": null,
       "padding": null,
       "right": null,
       "top": null,
       "visibility": null,
       "width": null
      }
     },
     "f363a5f2ea464b5aad48e9baae0be13a": {
      "buffers": [
       {
        "data": "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",
        "encoding": "base64",
        "path": [
         "value"
        ]
       }
      ],
      "model_module": "@jupyter-widgets/controls",
      "model_module_version": "1.5.0",
      "model_name": "ImageModel",
      "state": {
       "_dom_classes": [],
       "_model_module": "@jupyter-widgets/controls",
       "_model_module_version": "1.5.0",
       "_model_name": "ImageModel",
       "_view_count": null,
       "_view_module": "@jupyter-widgets/controls",
       "_view_module_version": "1.5.0",
       "_view_name": "ImageView",
       "format": "PNG",
       "height": "",
       "layout": "IPY_MODEL_28173c3ec16546289dec70be8e5d57f8",
       "width": ""
      }
     }
    },
    "version_major": 2,
    "version_minor": 0
   }
  }
 },
 "nbformat": 4,
 "nbformat_minor": 0
}
